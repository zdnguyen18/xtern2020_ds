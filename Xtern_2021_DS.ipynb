{
 "cells": [
  {
   "cell_type": "raw",
   "metadata": {},
   "source": [
    "---\n",
    "title: \"Xtern Class of 2021_Data Science Assessment\"\n",
    "output: html_notebook\n",
    "---"
   ]
  },
  {
   "cell_type": "markdown",
   "metadata": {
    "lines_to_next_cell": 0
   },
   "source": [
    "This is an [R Markdown](http://rmarkdown.rstudio.com) Notebook. When you execute code within the notebook, the results appear beneath the code. \n",
    "\n",
    "Try executing this chunk by clicking the *Run* button within the chunk or by placing your cursor inside it and pressing *Cmd+Shift+Enter*. \n",
    "1. Install packages to clean data in csv file"
   ]
  },
  {
   "cell_type": "code",
   "execution_count": null,
   "metadata": {
    "lines_to_next_cell": 0
   },
   "outputs": [],
   "source": [
    "install.packages(\"tidyverse\")\n",
    "install.packages(\"dplyr\")\n",
    "library(dplyr)\n",
    "library(tidyverse)\n",
    "library(readr)"
   ]
  },
  {
   "cell_type": "markdown",
   "metadata": {
    "lines_to_next_cell": 0
   },
   "source": [
    "DATA OVERVIEW - Pickup Zones Conlcusion\n",
    "Overall about the data structure of the csv\n",
    "Drawing histogram and boxplot for each continuos varibales including: Latitude, Longitude\n",
    "Conclusion 1: From the graphs, the range of Latitude is from 39.25 to 39.75 while the range of Longitude is from -85.75 to -85.25"
   ]
  },
  {
   "cell_type": "code",
   "execution_count": null,
   "metadata": {
    "lines_to_next_cell": 0
   },
   "outputs": [],
   "source": [
    "#Main database having 2019 observations\n",
    "FoodieX <- read_csv(\"/Users/winnie/desktop/Class_2021-XTern-DS.csv\")\n",
    "str(FoodieX)\n",
    "summary(FoodieX)\n",
    "#Latitude\n",
    "ggplot(FoodieX, aes(x=Latitude)) + geom_histogram(bins =50,aes(y=..density..)) +geom_density()\n",
    "ggplot(FoodieX, aes(x=Latitude)) + geom_boxplot() + coord_flip() + theme_classic()\n",
    "#Longtitude \n",
    "ggplot(FoodieX, aes(x=Longitude)) + geom_histogram(bins =50,aes(y=..density..)) +geom_density()\n",
    "ggplot(FoodieX, aes(x=Longitude)) + geom_boxplot() + coord_flip() + theme_classic()\n",
    "#Interactive grpah between numeric vcariables\n",
    "GPS <- FoodieX[,c('Latitude', 'Longitude')]\n",
    "cor(GPS)\n",
    "pairs(GPS[,c(1:2)])"
   ]
  },
  {
   "cell_type": "markdown",
   "metadata": {},
   "source": [
    "Convert Data\n",
    "Convert all character columns into numeric columns except for Restaurant (ID) & Cuisines.However, there are lots of cell with NA data which leads to the next action: filter and get rid of NA data row (this non-NA dataset is used for Model 1 below)"
   ]
  },
  {
   "cell_type": "code",
   "execution_count": null,
   "metadata": {
    "lines_to_next_cell": 0
   },
   "outputs": [],
   "source": [
    "FoodieX$Rating <- as.numeric(as.character(FoodieX$Rating))\n",
    "FoodieX$Votes <- as.numeric(as.character(FoodieX$Votes))\n",
    "FoodieX$Reviews <- as.numeric(as.character(FoodieX$Reviews))\n",
    "trending <- FoodieX[,c('Cuisines','Rating', 'Votes', 'Reviews')]\n",
    "na_vec <- which(!complete.cases(trending))\n",
    "#Create a dataset without NA data\n",
    "model1_data <- trending[-na_vec,]"
   ]
  },
  {
   "cell_type": "markdown",
   "metadata": {
    "lines_to_next_cell": 0
   },
   "source": [
    "Model 1: Regression between Rating (dependent variable) & Votes + Review (Independent Variables)\n",
    "Conclusion 2: As we see the adjusted R-squared, only 18% of Ratings is explained by Votes & Reviews. Therefore, the correlation among rating, votes and reviews is insignificant.\n",
    "When we do single linear regression for (Rating & Votes) or (Rating & Reviews), the adjusted R-squares are also lower than 20% -> cannot state the regression"
   ]
  },
  {
   "cell_type": "code",
   "execution_count": null,
   "metadata": {},
   "outputs": [],
   "source": [
    "model1 <- lm(Rating ~ Votes+Reviews, data = model1_data)\n",
    "summary(model1)\n",
    "model1_2 <- lm(Rating ~ Reviews, data = model1_data)\n",
    "summary(model1_2)\n",
    "model1_3 <- lm(Rating ~ Votes, data = model1_data)\n",
    "summary(model1_3)"
   ]
  },
  {
   "cell_type": "markdown",
   "metadata": {
    "lines_to_next_cell": 0
   },
   "source": [
    "Conclusion 3: Best Rating Restaurants (4.0 rating)\n",
    "+ There are a total 112 restaurants which have a maximum rating of 4.0. Out of 2019 restaurants in the original dataset,  this number accounts for 5%. \n",
    "+ Among 112 restaurants with 4.0 rating, restaurants serving Indian food account for 35 % (39 restaurants), restaurants serving Chinese food account for 25% (28 restaurants).\n",
    "\n",
    "Conclusion 4: The popularity of Indian & Chinese Cuisine in Indianapolis\n",
    "All in all, we can say, Indian and Chinese cuisine are the two main parts of Indianapolis restaurant type, accounting for 16.8% and 12.5% of restaurants in Indy (in total). 10% out of each cuisine restaurant serves high quality food and has good customer service as they have 4.0 (maximum) rating.\n",
    "Conclusion 4.1: Indian Cuisine\n",
    "+ There are 339 restaurants serving Indian food in Indianapolis (out of 2019 restaurants). However, we only have 39 high quality (rate 4.0) restaurants accounting for only 11.5%\n",
    "Conclusion 4.2: Chinese Cuisine\n",
    "+ There are 252 restaurants serving Chinese food in Indianapolis (out of 2019 restaurants). However, we only have 28 high quality (rate 4.0) restaurants accounting for only 11.1%"
   ]
  },
  {
   "cell_type": "code",
   "execution_count": null,
   "metadata": {},
   "outputs": [],
   "source": [
    "#Total number of high rate (4.0) restaurants in Indianapolis\n",
    "high_rate <- filter(model1_data,Rating==4.0)\n",
    "#Total number of Indian restaurants which has 4.0 rating in Indianapolis\n",
    "Indian_high_quality <- high_rate %>% select(Cuisines, Votes) %>% filter(str_detect(Cuisines, \"Indian\")) %>%\n",
    "  count(Cuisines)\n",
    "#Total number of Indian restaurants in Indianapolis\n",
    "Indian_total <- FoodieX %>% select(Cuisines) %>% filter(str_detect(Cuisines, \"Indian\")) %>%count(Cuisines)\n",
    "#Total number of Chinese restaurants in Indianapolis\n",
    "Chinese_total <- FoodieX %>% select(Cuisines) %>% filter(str_detect(Cuisines, \"Chinese\")) %>%count(Cuisines)\n",
    "#Total number of Chinese restaurants which has 4.0 rating in Indianapolis\n",
    "Chinese_high_quality <- high_rate %>% select(Cuisines, Votes) %>% filter(str_detect(Cuisines, \"Chinese\")) %>% count(Cuisines)"
   ]
  },
  {
   "cell_type": "markdown",
   "metadata": {},
   "source": [
    "Add a new chunk by clicking the *Insert Chunk* button on the toolbar or by pressing *Cmd+Option+I*.\n",
    "\n",
    "When you save the notebook, an HTML file containing the code and output will be saved alongside it (click the *Preview* button or press *Cmd+Shift+K* to preview the HTML file). \n",
    "\n",
    "The preview shows you a rendered HTML copy of the contents of the editor. Consequently, unlike *Knit*, *Preview* does not run any R code chunks. Instead, the output of the chunk when it was last run in the editor is displayed.\n"
   ]
  }
 ],
 "metadata": {
  "jupytext": {
   "cell_metadata_filter": "-all",
   "main_language": "R",
   "notebook_metadata_filter": "-all"
  }
 },
 "nbformat": 4,
 "nbformat_minor": 4
}
